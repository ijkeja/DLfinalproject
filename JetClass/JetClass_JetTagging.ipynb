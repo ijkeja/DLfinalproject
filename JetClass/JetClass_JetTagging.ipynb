{
  "cells": [
    {
      "cell_type": "markdown",
      "metadata": {
        "id": "kACiBMRe49ib"
      },
      "source": [
        "# Preamble and data import"
      ]
    },
    {
      "cell_type": "code",
      "execution_count": 1,
      "metadata": {
        "colab": {
          "base_uri": "https://localhost:8080/"
        },
        "id": "xIeH4BUZBZEB",
        "outputId": "98303508-0db0-481d-bf7d-c029563ebc8f"
      },
      "outputs": [
        {
          "output_type": "stream",
          "name": "stdout",
          "text": [
            "Collecting uproot\n",
            "  Downloading uproot-5.6.0-py3-none-any.whl.metadata (34 kB)\n",
            "Collecting awkward\n",
            "  Downloading awkward-2.8.1-py3-none-any.whl.metadata (7.0 kB)\n",
            "Collecting vector\n",
            "  Downloading vector-1.6.1-py3-none-any.whl.metadata (15 kB)\n",
            "Requirement already satisfied: cramjam>=2.5.0 in /usr/local/lib/python3.11/dist-packages (from uproot) (2.9.1)\n",
            "Requirement already satisfied: fsspec in /usr/local/lib/python3.11/dist-packages (from uproot) (2025.3.0)\n",
            "Requirement already satisfied: numpy in /usr/local/lib/python3.11/dist-packages (from uproot) (2.0.2)\n",
            "Requirement already satisfied: packaging in /usr/local/lib/python3.11/dist-packages (from uproot) (24.2)\n",
            "Collecting xxhash (from uproot)\n",
            "  Downloading xxhash-3.5.0-cp311-cp311-manylinux_2_17_x86_64.manylinux2014_x86_64.whl.metadata (12 kB)\n",
            "Collecting awkward-cpp==45 (from awkward)\n",
            "  Downloading awkward_cpp-45-cp311-cp311-manylinux_2_17_x86_64.manylinux2014_x86_64.whl.metadata (2.1 kB)\n",
            "Requirement already satisfied: importlib-metadata>=4.13.0 in /usr/local/lib/python3.11/dist-packages (from awkward) (8.6.1)\n",
            "Requirement already satisfied: zipp>=3.20 in /usr/local/lib/python3.11/dist-packages (from importlib-metadata>=4.13.0->awkward) (3.21.0)\n",
            "Downloading uproot-5.6.0-py3-none-any.whl (365 kB)\n",
            "\u001b[2K   \u001b[90m━━━━━━━━━━━━━━━━━━━━━━━━━━━━━━━━━━━━━━━━\u001b[0m \u001b[32m365.0/365.0 kB\u001b[0m \u001b[31m11.4 MB/s\u001b[0m eta \u001b[36m0:00:00\u001b[0m\n",
            "\u001b[?25hDownloading awkward-2.8.1-py3-none-any.whl (879 kB)\n",
            "\u001b[2K   \u001b[90m━━━━━━━━━━━━━━━━━━━━━━━━━━━━━━━━━━━━━━━━\u001b[0m \u001b[32m879.4/879.4 kB\u001b[0m \u001b[31m23.7 MB/s\u001b[0m eta \u001b[36m0:00:00\u001b[0m\n",
            "\u001b[?25hDownloading awkward_cpp-45-cp311-cp311-manylinux_2_17_x86_64.manylinux2014_x86_64.whl (638 kB)\n",
            "\u001b[2K   \u001b[90m━━━━━━━━━━━━━━━━━━━━━━━━━━━━━━━━━━━━━━━━\u001b[0m \u001b[32m638.7/638.7 kB\u001b[0m \u001b[31m35.2 MB/s\u001b[0m eta \u001b[36m0:00:00\u001b[0m\n",
            "\u001b[?25hDownloading vector-1.6.1-py3-none-any.whl (177 kB)\n",
            "\u001b[2K   \u001b[90m━━━━━━━━━━━━━━━━━━━━━━━━━━━━━━━━━━━━━━━━\u001b[0m \u001b[32m177.8/177.8 kB\u001b[0m \u001b[31m9.6 MB/s\u001b[0m eta \u001b[36m0:00:00\u001b[0m\n",
            "\u001b[?25hDownloading xxhash-3.5.0-cp311-cp311-manylinux_2_17_x86_64.manylinux2014_x86_64.whl (194 kB)\n",
            "\u001b[2K   \u001b[90m━━━━━━━━━━━━━━━━━━━━━━━━━━━━━━━━━━━━━━━━\u001b[0m \u001b[32m194.8/194.8 kB\u001b[0m \u001b[31m7.3 MB/s\u001b[0m eta \u001b[36m0:00:00\u001b[0m\n",
            "\u001b[?25hInstalling collected packages: xxhash, vector, awkward-cpp, awkward, uproot\n",
            "Successfully installed awkward-2.8.1 awkward-cpp-45 uproot-5.6.0 vector-1.6.1 xxhash-3.5.0\n"
          ]
        }
      ],
      "source": [
        "!pip install uproot awkward vector\n",
        "\n",
        "import numpy as np\n",
        "import awkward as ak\n",
        "import uproot\n",
        "import vector\n",
        "vector.register_awkward()\n",
        "import os\n",
        "import shutil\n",
        "import zipfile\n",
        "import tarfile\n",
        "import urllib\n",
        "import requests\n",
        "from tqdm import tqdm"
      ]
    },
    {
      "cell_type": "code",
      "execution_count": 2,
      "metadata": {
        "colab": {
          "base_uri": "https://localhost:8080/"
        },
        "id": "Gj5TLk5ZDg3k",
        "outputId": "dcd0174f-9dbc-4211-fc36-08ac8c3d7cb4"
      },
      "outputs": [
        {
          "output_type": "stream",
          "name": "stdout",
          "text": [
            "Collecting weaver-core>=0.4\n",
            "  Downloading weaver_core-0.4.17-py3-none-any.whl.metadata (16 kB)\n",
            "Collecting numpy<2.0.0,>=1.19.5 (from weaver-core>=0.4)\n",
            "  Downloading numpy-1.26.4-cp311-cp311-manylinux_2_17_x86_64.manylinux2014_x86_64.whl.metadata (61 kB)\n",
            "\u001b[2K     \u001b[90m━━━━━━━━━━━━━━━━━━━━━━━━━━━━━━━━━━━━━━━━\u001b[0m \u001b[32m61.0/61.0 kB\u001b[0m \u001b[31m1.5 MB/s\u001b[0m eta \u001b[36m0:00:00\u001b[0m\n",
            "\u001b[?25hRequirement already satisfied: scipy>=1.5.2 in /usr/local/lib/python3.11/dist-packages (from weaver-core>=0.4) (1.14.1)\n",
            "Requirement already satisfied: pandas>=1.1.3 in /usr/local/lib/python3.11/dist-packages (from weaver-core>=0.4) (2.2.2)\n",
            "Requirement already satisfied: scikit-learn>=1.0.1 in /usr/local/lib/python3.11/dist-packages (from weaver-core>=0.4) (1.6.1)\n",
            "Requirement already satisfied: matplotlib>=3.3.0 in /usr/local/lib/python3.11/dist-packages (from weaver-core>=0.4) (3.10.0)\n",
            "Requirement already satisfied: tqdm>=4.41.0 in /usr/local/lib/python3.11/dist-packages (from weaver-core>=0.4) (4.67.1)\n",
            "Requirement already satisfied: PyYAML>=5.4 in /usr/local/lib/python3.11/dist-packages (from weaver-core>=0.4) (6.0.2)\n",
            "Collecting awkward0>=0.15.5 (from weaver-core>=0.4)\n",
            "  Downloading awkward0-0.15.5-py3-none-any.whl.metadata (4.2 kB)\n",
            "Collecting uproot<5.2.0,>=4.2.0 (from weaver-core>=0.4)\n",
            "  Downloading uproot-5.1.2-py3-none-any.whl.metadata (29 kB)\n",
            "Requirement already satisfied: awkward>=1.8.0 in /usr/local/lib/python3.11/dist-packages (from weaver-core>=0.4) (2.8.1)\n",
            "Requirement already satisfied: vector>=0.9.0 in /usr/local/lib/python3.11/dist-packages (from weaver-core>=0.4) (1.6.1)\n",
            "Collecting lz4>=3.1.0 (from weaver-core>=0.4)\n",
            "  Downloading lz4-4.4.4-cp311-cp311-manylinux_2_17_x86_64.manylinux2014_x86_64.whl.metadata (3.8 kB)\n",
            "Requirement already satisfied: xxhash>=1.4.4 in /usr/local/lib/python3.11/dist-packages (from weaver-core>=0.4) (3.5.0)\n",
            "Requirement already satisfied: tables>=3.6.1 in /usr/local/lib/python3.11/dist-packages (from weaver-core>=0.4) (3.10.2)\n",
            "Requirement already satisfied: tensorboard>=2.2.0 in /usr/local/lib/python3.11/dist-packages (from weaver-core>=0.4) (2.18.0)\n",
            "Requirement already satisfied: awkward-cpp==45 in /usr/local/lib/python3.11/dist-packages (from awkward>=1.8.0->weaver-core>=0.4) (45)\n",
            "Requirement already satisfied: fsspec>=2022.11.0 in /usr/local/lib/python3.11/dist-packages (from awkward>=1.8.0->weaver-core>=0.4) (2025.3.0)\n",
            "Requirement already satisfied: importlib-metadata>=4.13.0 in /usr/local/lib/python3.11/dist-packages (from awkward>=1.8.0->weaver-core>=0.4) (8.6.1)\n",
            "Requirement already satisfied: packaging in /usr/local/lib/python3.11/dist-packages (from awkward>=1.8.0->weaver-core>=0.4) (24.2)\n",
            "Requirement already satisfied: contourpy>=1.0.1 in /usr/local/lib/python3.11/dist-packages (from matplotlib>=3.3.0->weaver-core>=0.4) (1.3.1)\n",
            "Requirement already satisfied: cycler>=0.10 in /usr/local/lib/python3.11/dist-packages (from matplotlib>=3.3.0->weaver-core>=0.4) (0.12.1)\n",
            "Requirement already satisfied: fonttools>=4.22.0 in /usr/local/lib/python3.11/dist-packages (from matplotlib>=3.3.0->weaver-core>=0.4) (4.56.0)\n",
            "Requirement already satisfied: kiwisolver>=1.3.1 in /usr/local/lib/python3.11/dist-packages (from matplotlib>=3.3.0->weaver-core>=0.4) (1.4.8)\n",
            "Requirement already satisfied: pillow>=8 in /usr/local/lib/python3.11/dist-packages (from matplotlib>=3.3.0->weaver-core>=0.4) (11.1.0)\n",
            "Requirement already satisfied: pyparsing>=2.3.1 in /usr/local/lib/python3.11/dist-packages (from matplotlib>=3.3.0->weaver-core>=0.4) (3.2.3)\n",
            "Requirement already satisfied: python-dateutil>=2.7 in /usr/local/lib/python3.11/dist-packages (from matplotlib>=3.3.0->weaver-core>=0.4) (2.8.2)\n",
            "Requirement already satisfied: pytz>=2020.1 in /usr/local/lib/python3.11/dist-packages (from pandas>=1.1.3->weaver-core>=0.4) (2025.2)\n",
            "Requirement already satisfied: tzdata>=2022.7 in /usr/local/lib/python3.11/dist-packages (from pandas>=1.1.3->weaver-core>=0.4) (2025.2)\n",
            "Requirement already satisfied: joblib>=1.2.0 in /usr/local/lib/python3.11/dist-packages (from scikit-learn>=1.0.1->weaver-core>=0.4) (1.4.2)\n",
            "Requirement already satisfied: threadpoolctl>=3.1.0 in /usr/local/lib/python3.11/dist-packages (from scikit-learn>=1.0.1->weaver-core>=0.4) (3.6.0)\n",
            "Requirement already satisfied: numexpr>=2.6.2 in /usr/local/lib/python3.11/dist-packages (from tables>=3.6.1->weaver-core>=0.4) (2.10.2)\n",
            "Requirement already satisfied: py-cpuinfo in /usr/local/lib/python3.11/dist-packages (from tables>=3.6.1->weaver-core>=0.4) (9.0.0)\n",
            "Requirement already satisfied: blosc2>=2.3.0 in /usr/local/lib/python3.11/dist-packages (from tables>=3.6.1->weaver-core>=0.4) (3.2.1)\n",
            "Requirement already satisfied: typing-extensions>=4.4.0 in /usr/local/lib/python3.11/dist-packages (from tables>=3.6.1->weaver-core>=0.4) (4.13.0)\n",
            "Requirement already satisfied: absl-py>=0.4 in /usr/local/lib/python3.11/dist-packages (from tensorboard>=2.2.0->weaver-core>=0.4) (1.4.0)\n",
            "Requirement already satisfied: grpcio>=1.48.2 in /usr/local/lib/python3.11/dist-packages (from tensorboard>=2.2.0->weaver-core>=0.4) (1.71.0)\n",
            "Requirement already satisfied: markdown>=2.6.8 in /usr/local/lib/python3.11/dist-packages (from tensorboard>=2.2.0->weaver-core>=0.4) (3.7)\n",
            "Requirement already satisfied: protobuf!=4.24.0,>=3.19.6 in /usr/local/lib/python3.11/dist-packages (from tensorboard>=2.2.0->weaver-core>=0.4) (5.29.4)\n",
            "Requirement already satisfied: setuptools>=41.0.0 in /usr/local/lib/python3.11/dist-packages (from tensorboard>=2.2.0->weaver-core>=0.4) (75.2.0)\n",
            "Requirement already satisfied: six>1.9 in /usr/local/lib/python3.11/dist-packages (from tensorboard>=2.2.0->weaver-core>=0.4) (1.17.0)\n",
            "Requirement already satisfied: tensorboard-data-server<0.8.0,>=0.7.0 in /usr/local/lib/python3.11/dist-packages (from tensorboard>=2.2.0->weaver-core>=0.4) (0.7.2)\n",
            "Requirement already satisfied: werkzeug>=1.0.1 in /usr/local/lib/python3.11/dist-packages (from tensorboard>=2.2.0->weaver-core>=0.4) (3.1.3)\n",
            "Requirement already satisfied: ndindex in /usr/local/lib/python3.11/dist-packages (from blosc2>=2.3.0->tables>=3.6.1->weaver-core>=0.4) (1.9.2)\n",
            "Requirement already satisfied: msgpack in /usr/local/lib/python3.11/dist-packages (from blosc2>=2.3.0->tables>=3.6.1->weaver-core>=0.4) (1.1.0)\n",
            "Requirement already satisfied: platformdirs in /usr/local/lib/python3.11/dist-packages (from blosc2>=2.3.0->tables>=3.6.1->weaver-core>=0.4) (4.3.7)\n",
            "Requirement already satisfied: requests in /usr/local/lib/python3.11/dist-packages (from blosc2>=2.3.0->tables>=3.6.1->weaver-core>=0.4) (2.32.3)\n",
            "Requirement already satisfied: zipp>=3.20 in /usr/local/lib/python3.11/dist-packages (from importlib-metadata>=4.13.0->awkward>=1.8.0->weaver-core>=0.4) (3.21.0)\n",
            "Requirement already satisfied: MarkupSafe>=2.1.1 in /usr/local/lib/python3.11/dist-packages (from werkzeug>=1.0.1->tensorboard>=2.2.0->weaver-core>=0.4) (3.0.2)\n",
            "Requirement already satisfied: charset-normalizer<4,>=2 in /usr/local/lib/python3.11/dist-packages (from requests->blosc2>=2.3.0->tables>=3.6.1->weaver-core>=0.4) (3.4.1)\n",
            "Requirement already satisfied: idna<4,>=2.5 in /usr/local/lib/python3.11/dist-packages (from requests->blosc2>=2.3.0->tables>=3.6.1->weaver-core>=0.4) (3.10)\n",
            "Requirement already satisfied: urllib3<3,>=1.21.1 in /usr/local/lib/python3.11/dist-packages (from requests->blosc2>=2.3.0->tables>=3.6.1->weaver-core>=0.4) (2.3.0)\n",
            "Requirement already satisfied: certifi>=2017.4.17 in /usr/local/lib/python3.11/dist-packages (from requests->blosc2>=2.3.0->tables>=3.6.1->weaver-core>=0.4) (2025.1.31)\n",
            "Downloading weaver_core-0.4.17-py3-none-any.whl (74 kB)\n",
            "\u001b[2K   \u001b[90m━━━━━━━━━━━━━━━━━━━━━━━━━━━━━━━━━━━━━━━━\u001b[0m \u001b[32m74.5/74.5 kB\u001b[0m \u001b[31m2.4 MB/s\u001b[0m eta \u001b[36m0:00:00\u001b[0m\n",
            "\u001b[?25hDownloading awkward0-0.15.5-py3-none-any.whl (87 kB)\n",
            "\u001b[2K   \u001b[90m━━━━━━━━━━━━━━━━━━━━━━━━━━━━━━━━━━━━━━━━\u001b[0m \u001b[32m87.6/87.6 kB\u001b[0m \u001b[31m4.4 MB/s\u001b[0m eta \u001b[36m0:00:00\u001b[0m\n",
            "\u001b[?25hDownloading lz4-4.4.4-cp311-cp311-manylinux_2_17_x86_64.manylinux2014_x86_64.whl (1.3 MB)\n",
            "\u001b[2K   \u001b[90m━━━━━━━━━━━━━━━━━━━━━━━━━━━━━━━━━━━━━━━━\u001b[0m \u001b[32m1.3/1.3 MB\u001b[0m \u001b[31m22.1 MB/s\u001b[0m eta \u001b[36m0:00:00\u001b[0m\n",
            "\u001b[?25hDownloading numpy-1.26.4-cp311-cp311-manylinux_2_17_x86_64.manylinux2014_x86_64.whl (18.3 MB)\n",
            "\u001b[2K   \u001b[90m━━━━━━━━━━━━━━━━━━━━━━━━━━━━━━━━━━━━━━━━\u001b[0m \u001b[32m18.3/18.3 MB\u001b[0m \u001b[31m21.1 MB/s\u001b[0m eta \u001b[36m0:00:00\u001b[0m\n",
            "\u001b[?25hDownloading uproot-5.1.2-py3-none-any.whl (342 kB)\n",
            "\u001b[2K   \u001b[90m━━━━━━━━━━━━━━━━━━━━━━━━━━━━━━━━━━━━━━━━\u001b[0m \u001b[32m342.7/342.7 kB\u001b[0m \u001b[31m24.7 MB/s\u001b[0m eta \u001b[36m0:00:00\u001b[0m\n",
            "\u001b[?25hInstalling collected packages: numpy, lz4, awkward0, uproot, weaver-core\n",
            "  Attempting uninstall: numpy\n",
            "    Found existing installation: numpy 2.0.2\n",
            "    Uninstalling numpy-2.0.2:\n",
            "      Successfully uninstalled numpy-2.0.2\n",
            "  Attempting uninstall: uproot\n",
            "    Found existing installation: uproot 5.6.0\n",
            "    Uninstalling uproot-5.6.0:\n",
            "      Successfully uninstalled uproot-5.6.0\n",
            "Successfully installed awkward0-0.15.5 lz4-4.4.4 numpy-1.26.4 uproot-5.1.2 weaver-core-0.4.17\n",
            "Collecting numpy==2.2.0\n",
            "  Downloading numpy-2.2.0-cp311-cp311-manylinux_2_17_x86_64.manylinux2014_x86_64.whl.metadata (62 kB)\n",
            "\u001b[2K     \u001b[90m━━━━━━━━━━━━━━━━━━━━━━━━━━━━━━━━━━━━━━━━\u001b[0m \u001b[32m62.0/62.0 kB\u001b[0m \u001b[31m1.8 MB/s\u001b[0m eta \u001b[36m0:00:00\u001b[0m\n",
            "\u001b[?25hDownloading numpy-2.2.0-cp311-cp311-manylinux_2_17_x86_64.manylinux2014_x86_64.whl (16.4 MB)\n",
            "\u001b[2K   \u001b[90m━━━━━━━━━━━━━━━━━━━━━━━━━━━━━━━━━━━━━━━━\u001b[0m \u001b[32m16.4/16.4 MB\u001b[0m \u001b[31m17.6 MB/s\u001b[0m eta \u001b[36m0:00:00\u001b[0m\n",
            "\u001b[?25hInstalling collected packages: numpy\n",
            "  Attempting uninstall: numpy\n",
            "    Found existing installation: numpy 1.26.4\n",
            "    Uninstalling numpy-1.26.4:\n",
            "      Successfully uninstalled numpy-1.26.4\n",
            "\u001b[31mERROR: pip's dependency resolver does not currently take into account all the packages that are installed. This behaviour is the source of the following dependency conflicts.\n",
            "weaver-core 0.4.17 requires numpy<2.0.0,>=1.19.5, but you have numpy 2.2.0 which is incompatible.\n",
            "tensorflow 2.18.0 requires numpy<2.1.0,>=1.26.0, but you have numpy 2.2.0 which is incompatible.\n",
            "numba 0.60.0 requires numpy<2.1,>=1.22, but you have numpy 2.2.0 which is incompatible.\u001b[0m\u001b[31m\n",
            "\u001b[0mSuccessfully installed numpy-2.2.0\n"
          ]
        }
      ],
      "source": [
        "!pip install 'weaver-core>=0.4'\n",
        "!pip install --force-reinstall numpy==2.2.0"
      ]
    },
    {
      "cell_type": "code",
      "execution_count": 3,
      "metadata": {
        "id": "CBJM6fr1UClQ"
      },
      "outputs": [],
      "source": [
        "def _download(url, fname, chunk_size=1024):\n",
        "    '''https://gist.github.com/yanqd0/c13ed29e29432e3cf3e7c38467f42f51'''\n",
        "    resp = requests.get(url, stream=True)\n",
        "    total = int(resp.headers.get('content-length', 0))\n",
        "    with open(fname, 'wb') as file, tqdm(\n",
        "        desc=fname,\n",
        "        total=total,\n",
        "        unit='iB',\n",
        "        unit_scale=True,\n",
        "        unit_divisor=1024,\n",
        "    ) as bar:\n",
        "        for data in resp.iter_content(chunk_size=chunk_size):\n",
        "            size = file.write(data)\n",
        "            bar.update(size)"
      ]
    },
    {
      "cell_type": "code",
      "execution_count": 4,
      "metadata": {
        "colab": {
          "base_uri": "https://localhost:8080/"
        },
        "id": "Zb4Z4_3_UGh8",
        "outputId": "c6af2307-19f6-4270-b0d6-25d5c10a87c3"
      },
      "outputs": [
        {
          "output_type": "stream",
          "name": "stderr",
          "text": [
            "JetClass_example_100k.root: 100%|██████████| 130M/130M [00:08<00:00, 16.3MiB/s]\n"
          ]
        }
      ],
      "source": [
        "# Download the example file\n",
        "example_file = 'JetClass_example_100k.root'\n",
        "if not os.path.exists(example_file):\n",
        "    _download('https://hqu.web.cern.ch/datasets/JetClass/example/JetClass_example_100k.root', example_file)"
      ]
    },
    {
      "cell_type": "code",
      "execution_count": 5,
      "metadata": {
        "id": "FrtjH9GzUIr8"
      },
      "outputs": [],
      "source": [
        "# Load the content from the file\n",
        "tree = uproot.open(example_file)['tree']"
      ]
    },
    {
      "cell_type": "code",
      "execution_count": 6,
      "metadata": {
        "colab": {
          "base_uri": "https://localhost:8080/"
        },
        "id": "DJE3gMzXU-Ku",
        "outputId": "2a4af1d3-c932-436a-834f-eb1558550760"
      },
      "outputs": [
        {
          "output_type": "stream",
          "name": "stdout",
          "text": [
            "name                 | typename                 | interpretation                \n",
            "---------------------+--------------------------+-------------------------------\n",
            "part_px              | std::vector<float>       | AsJagged(AsDtype('>f4'), he...\n",
            "part_py              | std::vector<float>       | AsJagged(AsDtype('>f4'), he...\n",
            "part_pz              | std::vector<float>       | AsJagged(AsDtype('>f4'), he...\n",
            "part_energy          | std::vector<float>       | AsJagged(AsDtype('>f4'), he...\n",
            "part_deta            | std::vector<float>       | AsJagged(AsDtype('>f4'), he...\n",
            "part_dphi            | std::vector<float>       | AsJagged(AsDtype('>f4'), he...\n",
            "part_d0val           | std::vector<float>       | AsJagged(AsDtype('>f4'), he...\n",
            "part_d0err           | std::vector<float>       | AsJagged(AsDtype('>f4'), he...\n",
            "part_dzval           | std::vector<float>       | AsJagged(AsDtype('>f4'), he...\n",
            "part_dzerr           | std::vector<float>       | AsJagged(AsDtype('>f4'), he...\n",
            "part_charge          | std::vector<float>       | AsJagged(AsDtype('>f4'), he...\n",
            "part_isChargedHadron | std::vector<int32_t>     | AsJagged(AsDtype('>i4'), he...\n",
            "part_isNeutralHadron | std::vector<int32_t>     | AsJagged(AsDtype('>i4'), he...\n",
            "part_isPhoton        | std::vector<int32_t>     | AsJagged(AsDtype('>i4'), he...\n",
            "part_isElectron      | std::vector<int32_t>     | AsJagged(AsDtype('>i4'), he...\n",
            "part_isMuon          | std::vector<int32_t>     | AsJagged(AsDtype('>i4'), he...\n",
            "label_QCD            | float                    | AsDtype('>f4')\n",
            "label_Hbb            | bool                     | AsDtype('bool')\n",
            "label_Hcc            | bool                     | AsDtype('bool')\n",
            "label_Hgg            | bool                     | AsDtype('bool')\n",
            "label_H4q            | bool                     | AsDtype('bool')\n",
            "label_Hqql           | bool                     | AsDtype('bool')\n",
            "label_Zqq            | int32_t                  | AsDtype('>i4')\n",
            "label_Wqq            | int32_t                  | AsDtype('>i4')\n",
            "label_Tbqq           | int32_t                  | AsDtype('>i4')\n",
            "label_Tbl            | int32_t                  | AsDtype('>i4')\n",
            "jet_pt               | float                    | AsDtype('>f4')\n",
            "jet_eta              | float                    | AsDtype('>f4')\n",
            "jet_phi              | float                    | AsDtype('>f4')\n",
            "jet_energy           | float                    | AsDtype('>f4')\n",
            "jet_nparticles       | float                    | AsDtype('>f4')\n",
            "jet_sdmass           | float                    | AsDtype('>f4')\n",
            "jet_tau1             | float                    | AsDtype('>f4')\n",
            "jet_tau2             | float                    | AsDtype('>f4')\n",
            "jet_tau3             | float                    | AsDtype('>f4')\n",
            "jet_tau4             | float                    | AsDtype('>f4')\n",
            "aux_genpart_eta      | float                    | AsDtype('>f4')\n",
            "aux_genpart_phi      | float                    | AsDtype('>f4')\n",
            "aux_genpart_pid      | float                    | AsDtype('>f4')\n",
            "aux_genpart_pt       | float                    | AsDtype('>f4')\n",
            "aux_truth_match      | float                    | AsDtype('>f4')\n"
          ]
        }
      ],
      "source": [
        "# Display the content of the \"tree\"\n",
        "tree.show()"
      ]
    },
    {
      "cell_type": "markdown",
      "metadata": {
        "id": "HN_NrUw3Yd0D"
      },
      "source": [
        "part_*: JaggedArrays with features for each particle in a jet. These (and features constructed from them) are what we use for training in the Particle Transformer paper.\n",
        "\n",
        "label_*: 1D numpy arrays one-hot truth labels for each jet. These are the target of the training.\n",
        "\n",
        "jet_*: 1D numpy array with (high-level) features for each jet. These can also be used in the training, but since they are constructed from the particle-level features, it is not expected that they bring additional performance improvement.\n",
        "\n",
        "aux_*: auxiliary truth information about the simulated particles for additional studies / interpretations. SHOULD NOT be used in the training of any classifier."
      ]
    },
    {
      "cell_type": "code",
      "execution_count": 7,
      "metadata": {
        "id": "pClJXN-JVCD0"
      },
      "outputs": [],
      "source": [
        "# Load all arrays in the tree\n",
        "# Each array is a column of the table\n",
        "table = tree.arrays()\n",
        "# Arrays of a scalar type (bool/int/float) can be converted to a numpy array directly, e.g.\n",
        "table['label_QCD'].to_numpy()\n",
        "# Arrays of a vector type are loaded as a JaggedArray that has varying elements per row\n",
        "table['part_px']\n",
        "# A JaggedArray can be (zero-) padded to become a regular numpy array (see later)\n",
        "# Construct a Lorentz 4-vector from the (px, py, pz, energy) arrays\n",
        "p4 = vector.zip({'px': table['part_px'], 'py': table['part_py'], 'pz': table['part_pz'], 'energy': table['part_energy']})\n"
      ]
    },
    {
      "cell_type": "code",
      "execution_count": 8,
      "metadata": {
        "colab": {
          "base_uri": "https://localhost:8080/"
        },
        "id": "7lvJLMCcV62z",
        "outputId": "8413601a-75ad-4fe1-88af-75e4f133f469"
      },
      "outputs": [
        {
          "output_type": "execute_result",
          "data": {
            "text/plain": [
              "array([[140.19296 ,  95.284584,  87.84807 , ...,   0.      ,   0.      ,\n",
              "          0.      ],\n",
              "       [244.67009 ,  62.332603,  45.159416, ...,   0.      ,   0.      ,\n",
              "          0.      ],\n",
              "       [143.15791 ,  91.48589 ,  25.372644, ...,   0.      ,   0.      ,\n",
              "          0.      ],\n",
              "       ...,\n",
              "       [157.69547 , 101.245445,  79.816284, ...,   0.      ,   0.      ,\n",
              "          0.      ],\n",
              "       [ 88.65814 ,  80.69194 ,  79.14036 , ...,   0.      ,   0.      ,\n",
              "          0.      ],\n",
              "       [171.13641 , 121.71926 ,  59.68036 , ...,   0.      ,   0.      ,\n",
              "          0.      ]], dtype=float32)"
            ]
          },
          "metadata": {},
          "execution_count": 8
        }
      ],
      "source": [
        "def _pad(a, maxlen, value=0, dtype='float32'):\n",
        "    if isinstance(a, np.ndarray) and a.ndim >= 2 and a.shape[1] == maxlen:\n",
        "        return a\n",
        "    elif isinstance(a, ak.Array):\n",
        "        if a.ndim == 1:\n",
        "            a = ak.unflatten(a, 1)\n",
        "        a = ak.fill_none(ak.pad_none(a, maxlen, clip=True), value)\n",
        "        return ak.values_astype(a, dtype)\n",
        "    else:\n",
        "        x = (np.ones((len(a), maxlen)) * value).astype(dtype)\n",
        "        for idx, s in enumerate(a):\n",
        "            if not len(s):\n",
        "                continue\n",
        "            trunc = s[:maxlen].astype(dtype)\n",
        "            x[idx, :len(trunc)] = trunc\n",
        "        return x\n",
        "\n",
        "# Apply zero-padding and convert to a numpy array\n",
        "_pad(p4.pt, maxlen=128).to_numpy()"
      ]
    },
    {
      "cell_type": "code",
      "execution_count": 9,
      "metadata": {
        "id": "IjVjmp9zae8v"
      },
      "outputs": [],
      "source": [
        "\tdef _clip(a, a_min, a_max):\n",
        "    try:\n",
        "        return np.clip(a, a_min, a_max)\n",
        "    except ValueError:\n",
        "        return ak.unflatten(np.clip(ak.flatten(a), a_min, a_max), ak.num(a))"
      ]
    },
    {
      "cell_type": "code",
      "execution_count": 10,
      "metadata": {
        "id": "wKf-IMfJaig2"
      },
      "outputs": [],
      "source": [
        "def build_features_and_labels(tree, transform_features=True):\n",
        "\n",
        "    # load arrays from the tree\n",
        "    a = tree.arrays(filter_name=['part_*', 'jet_pt', 'jet_energy', 'label_*'])\n",
        "\n",
        "    # compute new features\n",
        "    a['part_mask'] = ak.ones_like(a['part_energy'])\n",
        "    a['part_pt'] = np.hypot(a['part_px'], a['part_py'])\n",
        "    a['part_pt_log'] = np.log(a['part_pt'])\n",
        "    a['part_e_log'] = np.log(a['part_energy'])\n",
        "    a['part_logptrel'] = np.log(a['part_pt']/a['jet_pt'])\n",
        "    a['part_logerel'] = np.log(a['part_energy']/a['jet_energy'])\n",
        "    a['part_deltaR'] = np.hypot(a['part_deta'], a['part_dphi'])\n",
        "    a['part_d0'] = np.tanh(a['part_d0val'])\n",
        "    a['part_dz'] = np.tanh(a['part_dzval'])\n",
        "\n",
        "    # apply standardization\n",
        "    if transform_features:\n",
        "        a['part_pt_log'] = (a['part_pt_log'] - 1.7) * 0.7\n",
        "        a['part_e_log'] = (a['part_e_log'] - 2.0) * 0.7\n",
        "        a['part_logptrel'] = (a['part_logptrel'] - (-4.7)) * 0.7\n",
        "        a['part_logerel'] = (a['part_logerel'] - (-4.7)) * 0.7\n",
        "        a['part_deltaR'] = (a['part_deltaR'] - 0.2) * 4.0\n",
        "        a['part_d0err'] = _clip(a['part_d0err'], 0, 1)\n",
        "        a['part_dzerr'] = _clip(a['part_dzerr'], 0, 1)\n",
        "\n",
        "    feature_list = {\n",
        "        'pf_points': ['part_deta', 'part_dphi'], # not used in ParT\n",
        "        'pf_features': [\n",
        "            'part_pt_log',\n",
        "            'part_e_log',\n",
        "            'part_logptrel',\n",
        "            'part_logerel',\n",
        "            'part_deltaR',\n",
        "            'part_charge',\n",
        "            'part_isChargedHadron',\n",
        "            'part_isNeutralHadron',\n",
        "            'part_isPhoton',\n",
        "            'part_isElectron',\n",
        "            'part_isMuon',\n",
        "            'part_d0',\n",
        "            'part_d0err',\n",
        "            'part_dz',\n",
        "            'part_dzerr',\n",
        "            'part_deta',\n",
        "            'part_dphi',\n",
        "        ],\n",
        "        'pf_vectors': [\n",
        "            'part_px',\n",
        "            'part_py',\n",
        "            'part_pz',\n",
        "            'part_energy',\n",
        "        ],\n",
        "        'pf_mask': ['part_mask']\n",
        "    }\n",
        "\n",
        "    out = {}\n",
        "    for k, names in feature_list.items():\n",
        "        out[k] = np.stack([_pad(a[n], maxlen=128).to_numpy() for n in names], axis=1)\n",
        "\n",
        "    label_list = ['label_QCD', 'label_Hbb', 'label_Hcc', 'label_Hgg', 'label_H4q', 'label_Hqql', 'label_Zqq', 'label_Wqq', 'label_Tbqq', 'label_Tbl']\n",
        "    out['label'] = np.stack([a[n].to_numpy().astype('int') for n in label_list], axis=1)\n",
        "\n",
        "    return out"
      ]
    },
    {
      "cell_type": "code",
      "execution_count": 11,
      "metadata": {
        "id": "bp4cF291akuK"
      },
      "outputs": [],
      "source": [
        "particle_data = build_features_and_labels(tree)"
      ]
    },
    {
      "cell_type": "code",
      "execution_count": 12,
      "metadata": {
        "colab": {
          "base_uri": "https://localhost:8080/"
        },
        "id": "M9YvUdJTwpj2",
        "outputId": "280e00f3-1509-4fbc-9e03-25f58fd54437"
      },
      "outputs": [
        {
          "output_type": "execute_result",
          "data": {
            "text/plain": [
              "{'pf_features': ['part_pt_log',\n",
              "  'part_e_log',\n",
              "  'part_logptrel',\n",
              "  'part_logerel',\n",
              "  'part_deltaR',\n",
              "  'part_charge',\n",
              "  'part_isChargedHadron',\n",
              "  'part_isNeutralHadron',\n",
              "  'part_isPhoton',\n",
              "  'part_isElectron',\n",
              "  'part_isMuon',\n",
              "  'part_d0',\n",
              "  'part_d0err',\n",
              "  'part_dz',\n",
              "  'part_dzerr',\n",
              "  'part_deta',\n",
              "  'part_dphi']}"
            ]
          },
          "metadata": {},
          "execution_count": 12
        }
      ],
      "source": [
        "class DataConfig:\n",
        "    def __init__(self):\n",
        "        self.input_dicts = {\n",
        "            'pf_features': [\n",
        "                'part_pt_log',\n",
        "                'part_e_log',\n",
        "                'part_logptrel',\n",
        "                'part_logerel',\n",
        "                'part_deltaR',\n",
        "                'part_charge',\n",
        "                'part_isChargedHadron',\n",
        "                'part_isNeutralHadron',\n",
        "                'part_isPhoton',\n",
        "                'part_isElectron',\n",
        "                'part_isMuon',\n",
        "                'part_d0',\n",
        "                'part_d0err',\n",
        "                'part_dz',\n",
        "                'part_dzerr',\n",
        "                'part_deta',\n",
        "                'part_dphi',\n",
        "            ]\n",
        "        }\n",
        "        self.label_value = ['QCD', 'Hbb', 'Hcc', 'Hgg', 'H4q', 'Hqql', 'Zqq', 'Wqq', 'Tbqq', 'Tbl']\n",
        "        self.input_names = ['pf_points', 'pf_features', 'pf_vectors', 'pf_mask']\n",
        "        self.input_shapes = {\n",
        "            'pf_points': (128, 2),\n",
        "            'pf_features': (128, 17),\n",
        "            'pf_vectors': (128, 4),\n",
        "            'pf_mask': (128, 1)\n",
        "        }\n",
        "data_config = DataConfig()\n",
        "data_config.input_dicts\n"
      ]
    },
    {
      "cell_type": "markdown",
      "metadata": {
        "id": "yuwX5IJs5MQF"
      },
      "source": [
        "# Model configuration"
      ]
    },
    {
      "cell_type": "code",
      "execution_count": 13,
      "metadata": {
        "id": "whQ8Xhe4u0rT"
      },
      "outputs": [],
      "source": [
        "import torch\n",
        "import torch.nn as nn\n",
        "from torch.utils.data import TensorDataset, DataLoader\n",
        "from weaver.nn.model.ParticleTransformer import ParticleTransformer\n",
        "from weaver.utils.logger import _logger\n",
        "from tqdm import tqdm  # For progress bar\n",
        "\n",
        "'''\n",
        "Link to the full model implementation:\n",
        "https://github.com/hqucms/weaver-core/blob/main/weaver/nn/model/ParticleTransformer.py\n",
        "'''\n",
        "\n",
        "\n",
        "class ParticleTransformerWrapper(nn.Module):\n",
        "    def __init__(self, **kwargs) -> None:\n",
        "        super().__init__()\n",
        "\n",
        "        in_dim = kwargs['embed_dims'][-1]\n",
        "        fc_params = kwargs.pop('fc_params')\n",
        "        num_classes = kwargs.pop('num_classes')\n",
        "        self.for_inference = kwargs['for_inference']\n",
        "\n",
        "        fcs = []\n",
        "        for out_dim, drop_rate in fc_params:\n",
        "            fcs.append(nn.Sequential(nn.Linear(in_dim, out_dim), nn.ReLU(), nn.Dropout(drop_rate)))\n",
        "            in_dim = out_dim\n",
        "        fcs.append(nn.Linear(in_dim, num_classes))\n",
        "        self.fc = nn.Sequential(*fcs)\n",
        "\n",
        "        kwargs['num_classes'] = None\n",
        "        kwargs['fc_params'] = None\n",
        "        self.mod = ParticleTransformer(**kwargs)\n",
        "\n",
        "    @torch.jit.ignore\n",
        "    def no_weight_decay(self):\n",
        "        return {'mod.cls_token', }\n",
        "\n",
        "    def forward(self, points, features, lorentz_vectors, mask):\n",
        "        x_cls = self.mod(features, v=lorentz_vectors, mask=mask)\n",
        "        output = self.fc(x_cls)\n",
        "        if self.for_inference:\n",
        "            output = torch.softmax(output, dim=1)\n",
        "        return output\n",
        "\n",
        "\n",
        "def get_model(data_config, **kwargs):\n",
        "\n",
        "    cfg = dict(\n",
        "        input_dim=len(data_config.input_dicts['pf_features']),\n",
        "        num_classes=len(data_config.label_value),\n",
        "        # network configurations\n",
        "        pair_input_dim=4,\n",
        "        use_pre_activation_pair=False,\n",
        "        embed_dims=[128, 512, 128],\n",
        "        pair_embed_dims=[64, 64, 64],\n",
        "        num_heads=8,\n",
        "        num_layers=8,\n",
        "        num_cls_layers=2,\n",
        "        block_params=None,\n",
        "        cls_block_params={'dropout': 0, 'attn_dropout': 0, 'activation_dropout': 0},\n",
        "        fc_params=[],\n",
        "        activation='gelu',\n",
        "        # misc\n",
        "        trim=True,\n",
        "        for_inference=False,\n",
        "    )\n",
        "    cfg.update(**kwargs)\n",
        "    _logger.info('Model config: %s' % str(cfg))\n",
        "\n",
        "    model = ParticleTransformerWrapper(**cfg)\n",
        "\n",
        "    model_info = {\n",
        "        'input_names': list(data_config.input_names),\n",
        "        'input_shapes': {k: ((1,) + s[1:]) for k, s in data_config.input_shapes.items()},\n",
        "        'output_names': ['softmax'],\n",
        "        'dynamic_axes': {**{k: {0: 'N', 2: 'n_' + k.split('_')[0]} for k in data_config.input_names}, **{'softmax': {0: 'N'}}},\n",
        "    }\n",
        "\n",
        "    return model, model_info\n",
        "\n",
        "\n",
        "def get_loss(data_config, **kwargs):\n",
        "    return torch.nn.CrossEntropyLoss()\n"
      ]
    },
    {
      "cell_type": "markdown",
      "metadata": {
        "id": "oyLtmH3B5R4i"
      },
      "source": [
        "# Data selection and pre-processing"
      ]
    },
    {
      "cell_type": "code",
      "execution_count": 14,
      "metadata": {
        "id": "PxILlJV80rn1"
      },
      "outputs": [],
      "source": [
        "from numpy import random\n",
        "import pandas as pd\n",
        "\n",
        "# We noticed that each of the 10 classes has 10k data points which are all grouped together in intervals of 10k size to give the entire 100k dataset.\n",
        "# Hence, we want to generate a certain amount of random numbers for every 10k interval in the 100k data samples.\n",
        "# We choose a 20k, 1k, 4k split (in the paper: 100M, 5M, 20M)\n",
        "num_intervals = 10  # 0-10k, 10k-20k, ..., 90k-100k\n",
        "samples_per_interval = 2500\n",
        "interval_size = 10000\n",
        "\n",
        "train_indices = []\n",
        "val_indices = []\n",
        "test_indices = []\n",
        "for i in range(num_intervals):\n",
        "    start = i * interval_size\n",
        "    end = start + interval_size\n",
        "    random.seed(42)\n",
        "    random_numbers = np.random.choice(np.arange(start, end), samples_per_interval, replace=False)\n",
        "    train_indices.extend(random_numbers[:2000])\n",
        "    val_indices.extend(random_numbers[2000:2100])\n",
        "    test_indices.extend(random_numbers[2100:])\n",
        "\n",
        "# Convert to a NumPy array\n",
        "random_numbers = np.array(random_numbers)\n",
        "train_indices = np.array(train_indices)\n",
        "val_indices = np.array(val_indices)\n",
        "test_indices = np.array(test_indices)\n",
        "\n",
        "model, model_info = get_model(data_config)\n",
        "data_train = {key: value[train_indices] for key, value in particle_data.items()}\n",
        "data_val = {key: value[val_indices] for key, value in particle_data.items()}\n",
        "data_test = {key: value[test_indices] for key, value in particle_data.items()}\n",
        "\n",
        "\n",
        "# Training data preparation\n",
        "pf_points_train = torch.tensor(data_train['pf_points'], dtype=torch.float32)\n",
        "pf_features_train = torch.tensor(data_train['pf_features'], dtype=torch.float32)\n",
        "pf_vectors_train = torch.tensor(data_train['pf_vectors'], dtype=torch.float32)\n",
        "pf_mask_train = torch.tensor(data_train['pf_mask'], dtype=torch.float32)\n",
        "labels_train = torch.tensor(data_train['label'], dtype=torch.long)\n",
        "\n",
        "dataset_train = TensorDataset(pf_points_train, pf_features_train, pf_vectors_train, pf_mask_train, labels_train)\n",
        "dataloader_train = DataLoader(dataset_train, batch_size=64, shuffle=True)\n",
        "\n",
        "# Validation data preparation\n",
        "pf_points_val = torch.tensor(data_val['pf_points'], dtype=torch.float32)\n",
        "pf_features_val = torch.tensor(data_val['pf_features'], dtype=torch.float32)\n",
        "pf_vectors_val = torch.tensor(data_val['pf_vectors'], dtype=torch.float32)\n",
        "pf_mask_val = torch.tensor(data_val['pf_mask'], dtype=torch.float32)\n",
        "labels_val = torch.tensor(data_val['label'], dtype=torch.long)\n",
        "\n",
        "dataset_val = TensorDataset(pf_points_val, pf_features_val, pf_vectors_val, pf_mask_val, labels_val)\n",
        "dataloader_val = DataLoader(dataset_val, batch_size=64, shuffle=True)\n",
        "\n",
        "# Testing data preparation\n",
        "pf_points_test = torch.tensor(data_test['pf_points'], dtype=torch.float32)\n",
        "pf_features_test = torch.tensor(data_test['pf_features'], dtype=torch.float32)\n",
        "pf_vectors_test = torch.tensor(data_test['pf_vectors'], dtype=torch.float32)\n",
        "pf_mask_test = torch.tensor(data_test['pf_mask'], dtype=torch.float32)\n",
        "labels_test = torch.tensor(data_test['label'], dtype=torch.long)\n",
        "\n",
        "dataset_test = TensorDataset(pf_points_test, pf_features_test, pf_vectors_test, pf_mask_test, labels_test)\n",
        "dataloader_test = DataLoader(dataset_test, batch_size=64, shuffle=True)"
      ]
    },
    {
      "cell_type": "markdown",
      "metadata": {
        "id": "R65MTiaR5Yis"
      },
      "source": [
        "# Training Loop"
      ]
    },
    {
      "cell_type": "code",
      "execution_count": 15,
      "metadata": {
        "colab": {
          "base_uri": "https://localhost:8080/"
        },
        "id": "Sx2ohL9AsDNo",
        "outputId": "c87cd4dd-6936-4500-f89a-ae5d0ce64205"
      },
      "outputs": [
        {
          "output_type": "stream",
          "name": "stderr",
          "text": [
            "\rEpoch 1/15:   0%|          | 0/313 [00:00<?, ?it/s]/usr/local/lib/python3.11/dist-packages/weaver/nn/model/ParticleTransformer.py:549: FutureWarning: `torch.cuda.amp.autocast(args...)` is deprecated. Please use `torch.amp.autocast('cuda', args...)` instead.\n",
            "  with torch.cuda.amp.autocast(enabled=self.use_amp):\n",
            "/usr/local/lib/python3.11/dist-packages/torch/nn/functional.py:5962: UserWarning: Support for mismatched key_padding_mask and attn_mask is deprecated. Use same type for both instead.\n",
            "  warnings.warn(\n"
          ]
        },
        {
          "output_type": "stream",
          "name": "stdout",
          "text": [
            "Epoch [1/15] -> Train Loss: 1.4127, Train Acc: 0.4837, Val Loss: 1.0634, Val Acc: 0.6100\n"
          ]
        },
        {
          "output_type": "stream",
          "name": "stderr",
          "text": []
        },
        {
          "output_type": "stream",
          "name": "stdout",
          "text": [
            "Epoch [2/15] -> Train Loss: 1.0203, Train Acc: 0.6335, Val Loss: 1.1199, Val Acc: 0.5750\n"
          ]
        },
        {
          "output_type": "stream",
          "name": "stderr",
          "text": []
        },
        {
          "output_type": "stream",
          "name": "stdout",
          "text": [
            "Epoch [3/15] -> Train Loss: 0.8760, Train Acc: 0.6877, Val Loss: 0.9041, Val Acc: 0.6810\n"
          ]
        },
        {
          "output_type": "stream",
          "name": "stderr",
          "text": []
        },
        {
          "output_type": "stream",
          "name": "stdout",
          "text": [
            "Epoch [4/15] -> Train Loss: 0.8261, Train Acc: 0.7028, Val Loss: 0.8209, Val Acc: 0.7170\n"
          ]
        },
        {
          "output_type": "stream",
          "name": "stderr",
          "text": []
        },
        {
          "output_type": "stream",
          "name": "stdout",
          "text": [
            "Epoch [5/15] -> Train Loss: 0.7531, Train Acc: 0.7291, Val Loss: 0.8122, Val Acc: 0.7140\n"
          ]
        },
        {
          "output_type": "stream",
          "name": "stderr",
          "text": []
        },
        {
          "output_type": "stream",
          "name": "stdout",
          "text": [
            "Epoch [6/15] -> Train Loss: 0.7365, Train Acc: 0.7385, Val Loss: 0.7928, Val Acc: 0.7180\n"
          ]
        },
        {
          "output_type": "stream",
          "name": "stderr",
          "text": []
        },
        {
          "output_type": "stream",
          "name": "stdout",
          "text": [
            "Epoch [7/15] -> Train Loss: 0.6822, Train Acc: 0.7577, Val Loss: 0.7791, Val Acc: 0.7360\n"
          ]
        },
        {
          "output_type": "stream",
          "name": "stderr",
          "text": []
        },
        {
          "output_type": "stream",
          "name": "stdout",
          "text": [
            "Epoch [8/15] -> Train Loss: 0.6710, Train Acc: 0.7617, Val Loss: 0.7701, Val Acc: 0.7320\n"
          ]
        },
        {
          "output_type": "stream",
          "name": "stderr",
          "text": []
        },
        {
          "output_type": "stream",
          "name": "stdout",
          "text": [
            "Epoch [9/15] -> Train Loss: 0.6394, Train Acc: 0.7713, Val Loss: 0.7689, Val Acc: 0.7220\n"
          ]
        },
        {
          "output_type": "stream",
          "name": "stderr",
          "text": []
        },
        {
          "output_type": "stream",
          "name": "stdout",
          "text": [
            "Epoch [10/15] -> Train Loss: 0.6339, Train Acc: 0.7722, Val Loss: 0.7576, Val Acc: 0.7300\n"
          ]
        },
        {
          "output_type": "stream",
          "name": "stderr",
          "text": []
        },
        {
          "output_type": "stream",
          "name": "stdout",
          "text": [
            "Epoch [11/15] -> Train Loss: 0.6145, Train Acc: 0.7819, Val Loss: 0.7487, Val Acc: 0.7440\n"
          ]
        },
        {
          "output_type": "stream",
          "name": "stderr",
          "text": []
        },
        {
          "output_type": "stream",
          "name": "stdout",
          "text": [
            "Epoch [12/15] -> Train Loss: 0.6040, Train Acc: 0.7836, Val Loss: 0.7518, Val Acc: 0.7340\n"
          ]
        },
        {
          "output_type": "stream",
          "name": "stderr",
          "text": []
        },
        {
          "output_type": "stream",
          "name": "stdout",
          "text": [
            "Epoch [13/15] -> Train Loss: 0.5946, Train Acc: 0.7859, Val Loss: 0.7591, Val Acc: 0.7240\n"
          ]
        },
        {
          "output_type": "stream",
          "name": "stderr",
          "text": []
        },
        {
          "output_type": "stream",
          "name": "stdout",
          "text": [
            "Epoch [14/15] -> Train Loss: 0.5878, Train Acc: 0.7909, Val Loss: 0.7539, Val Acc: 0.7320\n"
          ]
        },
        {
          "output_type": "stream",
          "name": "stderr",
          "text": []
        },
        {
          "output_type": "stream",
          "name": "stdout",
          "text": [
            "Epoch [15/15] -> Train Loss: 0.5820, Train Acc: 0.7934, Val Loss: 0.7492, Val Acc: 0.7390\n"
          ]
        }
      ],
      "source": [
        "import torch\n",
        "import torch.nn as nn\n",
        "import torch.optim as optim\n",
        "from torch.optim import RAdam\n",
        "from torch.optim.lr_scheduler import StepLR\n",
        "from tqdm import tqdm\n",
        "\n",
        "\n",
        "class Lookahead(torch.optim.Optimizer):\n",
        "    def __init__(self, optimizer, k=6, alpha=0.5, device='cuda'):\n",
        "        if not isinstance(optimizer, torch.optim.Optimizer):\n",
        "            raise TypeError(f\"Expected torch.optim.Optimizer, got {type(optimizer)}\")\n",
        "\n",
        "        self.optimizer = optimizer\n",
        "        self.k = k\n",
        "        self.alpha = alpha\n",
        "        self.step_counter = 0\n",
        "        self.param_groups = self.optimizer.param_groups\n",
        "        self.slow_params = [[param.clone().detach().to(device) for param in group['params']] for group in self.optimizer.param_groups]\n",
        "        self.device = device # Store device\n",
        "\n",
        "    def step(self, closure=None):\n",
        "        loss = None\n",
        "        if closure is not None:\n",
        "            loss = closure()\n",
        "\n",
        "        self.optimizer.step()\n",
        "        self.step_counter += 1\n",
        "\n",
        "        if self.step_counter % self.k == 0:\n",
        "            for group, slow_group in zip(self.optimizer.param_groups, self.slow_params):\n",
        "                for param, slow_param in zip(group['params'], slow_group):\n",
        "                    if param.grad is None:\n",
        "                        continue\n",
        "                    slow_param.data.add_(self.alpha * (param.data.to(self.device) - slow_param.data)) # Move param.data to the correct device\n",
        "                    param.data.copy_(slow_param.data)\n",
        "\n",
        "        return loss\n",
        "\n",
        "    def zero_grad(self, set_to_none=True):\n",
        "        self.optimizer.zero_grad(set_to_none=set_to_none)\n",
        "\n",
        "\n",
        "# Define inner optimizer (RAdam)\n",
        "inner_optimizer = RAdam(model.parameters(), lr=0.001, betas=(0.95, 0.999), eps=1e-5)\n",
        "\n",
        "# Wrap with Lookahead\n",
        "optimizer = Lookahead(inner_optimizer, k=6, alpha=0.5)\n",
        "\n",
        "# Learning rate scheduler, pass the inner optimizer (inner_optimizer in this case) to the scheduler\n",
        "scheduler = torch.optim.lr_scheduler.StepLR(inner_optimizer, step_size=2, gamma=0.5)\n",
        "\n",
        "# Move model to device\n",
        "device = torch.device(\"cuda\" if torch.cuda.is_available() else \"cpu\")\n",
        "model.to(device)\n",
        "\n",
        "# ptimizer = optim.Adam(model.parameters(), lr=0.001)\n",
        "criterion = get_loss(data_config)\n",
        "\n",
        "epochs = 15\n",
        "scaler = torch.amp.GradScaler('cuda')  # For mixed precision training\n",
        "\n",
        "history = {\n",
        "    \"train_loss\": [], \"val_loss\": [], \"train_acc\": [], \"val_acc\": []\n",
        "}\n",
        "\n",
        "for epoch in range(epochs):\n",
        "    model.train()\n",
        "    epoch_loss = 0\n",
        "    correct_train = 0\n",
        "    total_train = 0\n",
        "\n",
        "    progress_bar = tqdm(dataloader_train, desc=f\"Epoch {epoch+1}/{epochs}\", leave=False)\n",
        "\n",
        "    for batch in progress_bar:\n",
        "        batch_pf_points, batch_pf_features, batch_pf_vectors, batch_pf_mask, batch_labels = [b.to(device) for b in batch]\n",
        "\n",
        "        optimizer.zero_grad()\n",
        "\n",
        "        # Mixed precision forward pass\n",
        "        with torch.amp.autocast('cuda'):\n",
        "            outputs = model(batch_pf_points, batch_pf_features, batch_pf_vectors, batch_pf_mask)\n",
        "            # Ensure labels are in correct format\n",
        "            if batch_labels.ndimension() > 1 and batch_labels.shape[1] > 1:\n",
        "                _, batch_labels = torch.max(batch_labels, 1)  # Convert from one-hot to class indices\n",
        "\n",
        "            loss = criterion(outputs, batch_labels)\n",
        "\n",
        "        # Backpropagation with mixed precision\n",
        "        scaler.scale(loss).backward()\n",
        "        scaler.step(optimizer)\n",
        "        scaler.update()\n",
        "\n",
        "        epoch_loss += loss.item()\n",
        "\n",
        "        # Compute training accuracy\n",
        "        _, predicted = torch.max(outputs, 1)\n",
        "        correct_train += (predicted == batch_labels).sum().item()\n",
        "        total_train += batch_labels.size(0)\n",
        "\n",
        "        progress_bar.set_postfix(loss=loss.item(), acc=correct_train / total_train)\n",
        "\n",
        "    avg_train_loss = epoch_loss / len(dataloader_train)\n",
        "    train_accuracy = correct_train / total_train\n",
        "\n",
        "    # ======= VALIDATION PHASE =======\n",
        "    model.eval()\n",
        "    val_loss_epoch = 0\n",
        "    correct = 0\n",
        "    total = 0\n",
        "\n",
        "    with torch.no_grad():\n",
        "        for batch in dataloader_val:\n",
        "            batch_pf_points, batch_pf_features, batch_pf_vectors, batch_pf_mask, batch_labels = [b.to(device) for b in batch]\n",
        "\n",
        "            outputs = model(batch_pf_points, batch_pf_features, batch_pf_vectors, batch_pf_mask)\n",
        "            # Ensure labels are in correct format\n",
        "            if batch_labels.ndimension() > 1 and batch_labels.shape[1] > 1:\n",
        "                _, batch_labels = torch.max(batch_labels, 1)  # Convert from one-hot to class indices\n",
        "            loss = criterion(outputs, batch_labels)\n",
        "            val_loss_epoch += loss.item()\n",
        "\n",
        "            # Compute accuracy\n",
        "            _, predicted = torch.max(outputs, 1)\n",
        "            correct += (predicted == batch_labels).sum().item()\n",
        "            total += batch_labels.size(0)\n",
        "\n",
        "    avg_val_loss = val_loss_epoch / len(dataloader_val)\n",
        "    val_accuracy = correct / total\n",
        "\n",
        "    history[\"train_loss\"].append(avg_train_loss)\n",
        "    history[\"val_loss\"].append(avg_val_loss)\n",
        "    history[\"train_acc\"].append(train_accuracy)\n",
        "    history[\"val_acc\"].append(val_accuracy)\n",
        "\n",
        "    print(f\"Epoch [{epoch+1}/{epochs}] -> Train Loss: {avg_train_loss:.4f}, Train Acc: {train_accuracy:.4f}, \"\n",
        "          f\"Val Loss: {avg_val_loss:.4f}, Val Acc: {val_accuracy:.4f}\")\n",
        "\n",
        "    scheduler.step()  # Update learning rate\n",
        "\n"
      ]
    },
    {
      "cell_type": "markdown",
      "metadata": {
        "id": "94pnQF_q5hgV"
      },
      "source": [
        "# Training History"
      ]
    },
    {
      "cell_type": "code",
      "execution_count": 16,
      "metadata": {
        "id": "bEBkRyJASKHl"
      },
      "outputs": [],
      "source": [
        "import matplotlib.pyplot as plt\n",
        "\n",
        "def plot_training_history(history):\n",
        "    \"\"\"\n",
        "    Plot training and validation loss and accuracy.\n",
        "\n",
        "    Args:\n",
        "        history: Dictionary containing 'train_loss', 'val_loss', 'train_acc', 'val_acc'.\n",
        "    \"\"\"\n",
        "    epochs = range(1, len(history[\"train_loss\"]) + 1)\n",
        "\n",
        "    plt.figure(figsize=(12, 5))\n",
        "\n",
        "    # Loss plot\n",
        "    plt.subplot(1, 2, 1)\n",
        "    plt.plot(epochs, history[\"train_loss\"], label=\"Train Loss\")\n",
        "    plt.plot(epochs, history[\"val_loss\"], label=\"Val Loss\")\n",
        "    plt.xlabel(\"Epochs\")\n",
        "    plt.ylabel(\"Loss\")\n",
        "    plt.legend()\n",
        "    plt.title(\"Training & Validation Loss\")\n",
        "\n",
        "    # Accuracy plot\n",
        "    plt.subplot(1, 2, 2)\n",
        "    plt.plot(epochs, history[\"train_acc\"], label=\"Train Acc\")\n",
        "    plt.plot(epochs, history[\"val_acc\"], label=\"Val Acc\")\n",
        "    plt.xlabel(\"Epochs\")\n",
        "    plt.ylabel(\"Accuracy\")\n",
        "    plt.legend()\n",
        "    plt.title(\"Training & Validation Accuracy\")\n",
        "\n",
        "    plt.show()"
      ]
    },
    {
      "cell_type": "code",
      "execution_count": 17,
      "metadata": {
        "id": "XvQ2P0NaTuU1",
        "colab": {
          "base_uri": "https://localhost:8080/",
          "height": 487
        },
        "outputId": "35d646b2-4a70-4e69-ca17-04078f7fced2"
      },
      "outputs": [
        {
          "output_type": "display_data",
          "data": {
            "text/plain": [
              "<Figure size 1200x500 with 2 Axes>"
            ],
            "image/png": "[encoded data removed]"
          },
          "metadata": {}
        }
      ],
      "source": [
        "plot_training_history(history)"
      ]
    },
    {
      "cell_type": "code",
      "execution_count": 18,
      "metadata": {
        "id": "23GuiLewWXvd"
      },
      "outputs": [],
      "source": [
        "import json\n",
        "\n",
        "with open(\"training_history.json\", \"w\") as f:\n",
        "    json.dump(history, f)"
      ]
    },
    {
      "cell_type": "code",
      "source": [
        "def evaluate_model(model, dataloader, device='cuda'):\n",
        "    \"\"\"\n",
        "    Collects softmax predictions and true labels for ROC analysis.\n",
        "\n",
        "    Args:\n",
        "        model: Trained PyTorch model.\n",
        "        dataloader: DataLoader for test dataset.\n",
        "        device: 'cuda' or 'cpu'.\n",
        "\n",
        "    Returns:\n",
        "        all_probs: Softmax probabilities of shape (num_samples, num_classes).\n",
        "        all_labels: True labels of shape (num_samples,).\n",
        "    \"\"\"\n",
        "    criterion = nn.CrossEntropyLoss()\n",
        "    softmax = nn.Softmax(dim=1)\n",
        "\n",
        "    model.eval()\n",
        "    model.to(device)\n",
        "    test_loss, correct, total = 0, 0, 0\n",
        "    all_probs = []\n",
        "    all_labels = []\n",
        "\n",
        "    with torch.no_grad():\n",
        "        for points, features, lorentz_vectors, mask, labels in dataloader:\n",
        "            points, features, lorentz_vectors, mask, labels = (\n",
        "                points.to(device),\n",
        "                features.to(device),\n",
        "                lorentz_vectors.to(device),\n",
        "                mask.to(device),\n",
        "                labels.to(device),\n",
        "            )\n",
        "\n",
        "            outputs = model(points, features, lorentz_vectors, mask)\n",
        "\n",
        "            # Transform one-hot encoded labels to class indices\n",
        "            labels = torch.argmax(labels, dim=1)\n",
        "\n",
        "            # Transform logits to probabilities\n",
        "            probs = softmax(outputs)\n",
        "\n",
        "            loss = criterion(outputs, labels)\n",
        "            test_loss += loss.item()\n",
        "\n",
        "            _, predicted = torch.max(outputs, 1)\n",
        "            correct += (predicted == labels).sum().item()\n",
        "            total += labels.size(0)\n",
        "\n",
        "            all_probs.append(probs.cpu().numpy())  # Convert to numpy\n",
        "            all_labels.append(labels.cpu().numpy())\n",
        "\n",
        "    test_acc = correct / total\n",
        "    print(f\"Test Acc: {test_acc:.4f}\")\n",
        "    test_loss /= len(dataloader)\n",
        "    print(f\"Test Loss: {test_loss:.4f}\")\n",
        "\n",
        "    return np.concatenate(all_probs, axis=0), np.concatenate(all_labels, axis=0)"
      ],
      "metadata": {
        "id": "yzDFfFFtc9kJ"
      },
      "execution_count": 19,
      "outputs": []
    },
    {
      "cell_type": "code",
      "execution_count": 20,
      "metadata": {
        "id": "MfvjBZKSSzKT",
        "colab": {
          "base_uri": "https://localhost:8080/"
        },
        "outputId": "9488bd13-7f18-424d-fcc9-dde09c4b66ce"
      },
      "outputs": [
        {
          "output_type": "stream",
          "name": "stdout",
          "text": [
            "Test Acc: 0.7558\n",
            "Test Loss: 0.7174\n"
          ]
        }
      ],
      "source": [
        "num_classes = len(data_config.label_value)\n",
        "\n",
        "# Get predictions and true labels\n",
        "y_probs, y_true = evaluate_model(model, dataloader_test)\n",
        "\n",
        "# Convert NumPy arrays to lists before saving to JSON\n",
        "y_probs_list = y_probs.tolist()  # Convert y_probs to a list\n",
        "y_true_list = y_true.tolist()  # Convert y_true to a list\n",
        "\n",
        "with open(\"y_probs.json\", \"w\") as f:\n",
        "    json.dump(y_probs_list, f)  # Save the list to JSON\n",
        "\n",
        "with open(\"y_true.json\", \"w\") as f:\n",
        "    json.dump(y_true_list, f)  # Save the list to JSON"
      ]
    }
  ],
  "metadata": {
    "accelerator": "GPU",
    "colab": {
      "gpuType": "T4",
      "provenance": []
    },
    "kernelspec": {
      "display_name": "Python 3",
      "name": "python3"
    },
    "language_info": {
      "name": "python"
    }
  },
  "nbformat": 4,
  "nbformat_minor": 0
}